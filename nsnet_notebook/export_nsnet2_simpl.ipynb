{
 "cells": [
  {
   "cell_type": "code",
   "execution_count": null,
   "metadata": {},
   "outputs": [],
   "source": [
    "import os\n",
    "import onnx\n",
    "import torch\n",
    "import torchaudio\n",
    "import hydra\n",
    "import IPython.display as ipd\n",
    "\n",
    "from hydra import compose, initialize\n",
    "from omegaconf import OmegaConf\n",
    "from torch import nn\n",
    "from dyn_experiments.utils import register_resolvers, pretty_configs\n",
    "\n"
   ]
  },
  {
   "cell_type": "code",
   "execution_count": 6,
   "metadata": {},
   "outputs": [
    {
     "name": "stdout",
     "output_type": "stream",
     "text": [
      "Model configs:\n",
      "_target_: dyn_experiments.models.NsNet2\n",
      "hidden_1: 400\n",
      "hidden_2: 400\n",
      "hidden_3: 600\n",
      "loss:\n",
      "  _target_: dyn_experiments.models.losses.DynCompMSE\n",
      "  normalize: true\n",
      "  normalize_framelen: 512\n",
      "  normalize_threshold: 0.025\n",
      "n_features: 257\n",
      "n_fft: 512\n",
      "postproc:\n",
      "  _target_: torchaudio.transforms.InverseSpectrogram\n",
      "  n_fft: 512\n",
      "preproc:\n",
      "  _target_: torchaudio.transforms.Spectrogram\n",
      "  n_fft: 512\n",
      "  power: null\n",
      "\n",
      "Missing keys: []\n",
      "Unexpected keys: []\n",
      "NsNet2(\n",
      "  (loss_function): DynCompMSE()\n",
      "  (preproc): Spectrogram()\n",
      "  (postproc): InverseSpectrogram()\n",
      "  (fc1): Linear(in_features=257, out_features=400, bias=True)\n",
      "  (rnn1): GRU(400, 400, batch_first=True)\n",
      "  (rnn2): GRU(400, 400, batch_first=True)\n",
      "  (fc2): Linear(in_features=400, out_features=600, bias=True)\n",
      "  (fc3): Linear(in_features=600, out_features=600, bias=True)\n",
      "  (fc4): Linear(in_features=600, out_features=257, bias=True)\n",
      ")\n"
     ]
    }
   ],
   "source": [
    "# reset hydra (just in case)\n",
    "hydra.core.global_hydra.GlobalHydra.instance().clear()\n",
    "\n",
    "# initialize hydra\n",
    "initialize(version_base=None, config_path=\"../dyn_experiments/config/\")\n",
    "\n",
    "# tell hydra to parse the configs (use `overrides` to pass custom arguments)\n",
    "config = compose(config_name=\"train.yaml\", overrides=[\n",
    "    \"model=nsnet2_baseline\",\n",
    "    # \"checkpoint_path=/path/to/checkpoint.ckpt\",\n",
    "])\n",
    "\n",
    "# tell hydra to use custom configuration \"resolvers\"\n",
    "register_resolvers()\n",
    "\n",
    "# print the model config\n",
    "print(f\"Model configs:\\n{pretty_conf\n",
    "sdskcigs(config.model)}\")\n",
    "\n",
    "# instantiate the model\n",
    "model = hydra.utils.instantiate(config.model)\n",
    "\n",
    "# load checkpoint\n",
    "model_weights = '/home/rmiccini/checkpoints/nsnet2/baseline/pytorch_model.bin'\n",
    "state_dict = torch.load(model_weights, map_location='cpu')\n",
    "missing_keys, unexpected_keys = model.load_state_dict(state_dict, strict=False)\n",
    "print(f\"Missing keys: {missing_keys}\")\n",
    "print(f\"Unexpected keys: {unexpected_keys}\")\n",
    "\n",
    "# show the model\n",
    "model.eval()\n",
    "print(model)"
   ]
  },
  {
   "attachments": {},
   "cell_type": "markdown",
   "metadata": {},
   "source": [
    "# convert to ONNX (stateless)"
   ]
  },
  {
   "cell_type": "code",
   "execution_count": null,
   "metadata": {},
   "outputs": [],
   "source": [
    "# monkey-patch model forward to take an additional hidden state\n",
    "def forward(self, log_stft_noisy, h1, h2):\n",
    "    x = self.fc1(log_stft_noisy)\n",
    "    x, h1n = self.rnn1(x, h1)\n",
    "    x, h2n = self.rnn2(x, h2)\n",
    "    x = self.fc2(x)\n",
    "    x = nn.functional.relu(x)\n",
    "    x = self.fc3(x)\n",
    "    x = nn.functional.relu(x)\n",
    "    x = self.fc4(x)\n",
    "    x = torch.sigmoid(x)\n",
    "    return x, h1n, h2n\n",
    "\n",
    "\n",
    "def inference_forward(self, stft_noisy, h1=None, h2=None):\n",
    "    # log power\n",
    "    log_stft_noisy = torch.log(stft_noisy.abs() ** 2 + self.eps)\n",
    "    # sort shape\n",
    "    log_stft_noisy = log_stft_noisy.squeeze(1).permute(0, 2, 1)\n",
    "    # run neural network layers \n",
    "    x, h1n, h2n = self.forward(log_stft_noisy, h1, h2)\n",
    "    # sort shape\n",
    "    mask_pred = x.permute(0, 2, 1).unsqueeze(1)\n",
    "    # apply mask\n",
    "    stft_pred = stft_noisy * \n",
    "sdskcmask_pred\n",
    "    return stft_pred, h1n, h2n\n",
    "\n",
    "\n",
    "model.forward = forward.__get__(model, type(model))\n",
    "model.inference_forward = inference_forward.__get__(model, type(model))"
   ]
  },
  {
   "cell_type": "code",
   "execution_count": null,
   "metadata": {},
   "outputs": [
    {
     "name": "stderr",
     "output_type": "stream",
     "text": [
      "/home/rmiccini/miniconda3/envs/dyn_experiments_j/lib/python3.10/site-packages/torch/onnx/symbolic_opset9.py:4315: UserWarning: Exporting a model to ONNX with a batch_size other than 1, with a variable length with GRU can cause an error when running the ONNX model with a different batch size. Make sure to save the model with a batch size of 1, or define the initial states (h0/c0) as inputs of the model. \n",
      "  warnings.warn(\n",
      "/home/rmiccini/miniconda3/envs/dyn_experiments_j/lib/python3.10/site-packages/torch/onnx/_internal/jit_utils.py:258: UserWarning: The shape inference of prim::Constant type is missing, so it may result in wrong shape inference for the exported graph. Please consider adding it in symbolic function. (Triggered internally at /opt/conda/conda-bld/pytorch_1670525541990/work/torch/csrc/jit/passes/onnx/shape_type_inference.cpp:1884.)\n",
      "  _C._jit_pass_onnx_node_shape_type_inference(node, params_dict, opset_version)\n",
      "/home/rmiccini/miniconda3/envs/dyn_experiments_j/lib/python3.10/site-packages/torch/onnx/utils.py:687: UserWarning: The shape inference of prim::Constant type is missing, so it may result in wrong shape inference for the exported graph. Please consider adding it in symbolic function. (Triggered internally at /opt/conda/conda-bld/pytorch_1670525541990/work/torch/csrc/jit/passes/onnx/shape_type_inference.cpp:1884.)\n",
      "  _C._jit_pass_onnx_graph_shape_type_inference(\n",
      "/home/rmiccini/miniconda3/envs/dyn_experiments_j/lib/python3.10/site-packages/torch/onnx/utils.py:1178: UserWarning: The shape inference of prim::Constant type is missing, so it may result in wrong shape inference for the exported graph. Please consider adding it in symbolic function. (Triggered internally at /opt/conda/conda-bld/pytorch_1670525541990/work/torch/csrc/jit/passes/onnx/shape_type_inference.cpp:1884.)\n",
      "  _C._jit_pass_onnx_graph_shape_type_inference(\n"
     ]
    }
   ],
   "source": [
    "# convert to onnx\n",
    "path = \"./nsnet2_simple.onnx\"\n",
    "sdskc\n",
    "in1 = torch.randn(1, 1, 257) # input shape: [batch_size, time_frames, freqs]\n",
    "h1 = torch.randn(1, 1, 400) # input shape: [batch_size, time_frames, hidden_size]\n",
    "h2 = torch.randn(1, 1, 400) # input shape: [batch_size, time_frames, hidden_size]\n",
    "dummy_input = (in1, h1, h2)\n",
    "\n",
    "\n",
    "torch.onnx.export(\n",
    "    model, \n",
    "    dummy_input,\n",
    "    path,\n",
    "    output_names=['mask_pred', 'h1n', 'h2n'],\n",
    "    input_names = ['in_noisy', 'h1', 'h2'],\n",
    "    verbose=False)\n",
    "\n",
    "sdskc\n",
    "onnx.save(onnx.shape_inference.infer_shapes(onnx.load(path)), path)"
   ]
  },
  {
   "attachments": {},
   "cell_type": "markdown",
   "metadata": {},
   "source": [
    "# convert to ONNX (cell, stateless)"
   ]
  },
  {
   "cell_type": "code",
   "execution_count": 11,
   "metadata": {},
   "outputs": [],
   "source": [
    "# replace gru with gru cell\n",
    "model.rnn1 = nn.GRUCell(model.rnn1.input_size, model.rnn1.hidden_size)\n",
    "model.rnn2 = nn.GRUCell(model.rnn2.input_size, model.rnn2.hidden_size)\n",
    "\n",
    "# monkey-patch model forward to take an additional hidden state\n",
    "def forward(self, log_stft_noisy, h1, h2):\n",
    "    x = self.fc1(log_stft_noisy)\n",
    "    h1n = self.rnn1(x, h1)\n",
    "    h2n = self.rnn2(h1n, h2)\n",
    "    x = self.fc2(h2n)\n",
    "    x = nn.functional.relu(x)\n",
    "    x = self.fc3(x)\n",
    "    x = nn.functional.relu(x)\n",
    "    x = self.fc4(x)\n",
    "    x = torch.sigmoid(x)\n",
    "    return x, h1n, h2n\n",
    "\n",
    "\n",
    "def inference_forward(self, stft_noisy, h1=None, h2=None):\n",
    "    # log power\n",
    "    log_stft_noisy = torch.log(stft_noisy.abs() ** 2 + self.eps)\n",
    "    # sort shape\n",
    "    log_stft_noisy = log_stft_noisy.squeeze(1).permute(0, 2, 1)\n",
    "    # run neural network layers \n",
    "    x, h1n, h2n = self.forward(log_stft_noisy, h1, h2)\n",
    "    # sort shape\n",
    "    mask_pred = x.permute(0, 2, 1).unsqueeze(1)\n",
    "    # apply mask\n",
    "    stft_pred = stft_noisy * mask_pred\n",
    "    return stft_pred, h1n, h2n\n",
    "\n",
    "\n",
    "model.forward = forward.__get__(model, type(model))\n",
    "model.inference_forward = inference_forward.__get__(model, type(model))\n"
   ]
  },
  {
   "cell_type": "code",
   "execution_count": 12,
   "metadata": {},
   "outputs": [],
   "source": [
    "# convert to onnx\n",
    "path = \"./nsnet2_simple_cell.onnx\"\n",
    "in1 = torch.randn(1, 257) # input shape: [batch_size, freqs]\n",
    "h1 = torch.randn(1, 400) # input shape: [batch_size, hidden_size]\n",
    "h2 = torch.randn(1, 400) # input shape: [batch_size, hidden_size]\n",
    "dummy_input = (in1, h1, h2)\n",
    "\n",
    "\n",
    "torch.onnx.export(\n",
    "    model, \n",
    "    dummy_input,\n",
    "    path,\n",
    "    output_names=['mask_pred', 'h1n', 'h2n'],\n",
    "    input_names = ['in_noisy', 'h1', 'h2'],\n",
    "    verbose=False)\n",
    "\n",
    "onnx.save(onnx.shape_inference.infer_shapes(onnx.load(path)), path)\n"
   ]
  },
  {
   "cell_type": "code",
   "execution_count": null,
   "metadata": {},
   "outputs": [],
   "source": []
  }
 ],
 "metadata": {
  "kernelspec": {
   "display_name": "dyn_experiments_j",
   "language": "python",
   "name": "python3"
  },
  "language_info": {
   "codemirror_mode": {
    "name": "ipython",
    "version": 3
   },
   "file_extension": ".py",
   "mimetype": "text/x-python",
   "name": "python",
   "nbconvert_exporter": "python",
   "pygments_lexer": "ipython3",
   "version": "3.10.12"
  }
 },
 "nbformat": 4,
 "nbformat_minor": 2
}
